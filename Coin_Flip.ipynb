{
 "cells": [
  {
   "cell_type": "markdown",
   "metadata": {},
   "source": [
    "[스트링](https://www.youtube.com/watch?v=uQDkTytdD7w&list=PLXziV1DL41ojhfghjtP_jrU03iYy0vJZe&index=8)"
   ]
  },
  {
   "cell_type": "code",
   "execution_count": 10,
   "metadata": {},
   "outputs": [
    {
     "name": "stdout",
     "output_type": "stream",
     "text": [
      "T\n",
      "H\n",
      "H\n",
      "H\n",
      "T\n",
      "H\n",
      "T\n",
      "T\n",
      "H\n",
      "T\n"
     ]
    }
   ],
   "source": [
    "import numpy as np\n",
    "\n",
    "n = 10\n",
    "p = 0.5\n",
    "\n",
    "for i in range(n):\n",
    "    if np.random.uniform(0., 1.) > 1-p: \n",
    "        print(\"H\")\n",
    "    else:\n",
    "        print(\"T\")"
   ]
  },
  {
   "cell_type": "markdown",
   "metadata": {},
   "source": [
    "[리스트 어펜드 메쏘드](https://www.youtube.com/watch?v=gMWlU58jxmw&list=PLXziV1DL41ojhfghjtP_jrU03iYy0vJZe&index=22&t=0s)"
   ]
  },
  {
   "cell_type": "code",
   "execution_count": 18,
   "metadata": {},
   "outputs": [
    {
     "name": "stdout",
     "output_type": "stream",
     "text": [
      "0.18410205841064453\n"
     ]
    }
   ],
   "source": [
    "import numpy as np\n",
    "\n",
    "n = 10\n",
    "p = 0.5\n",
    "\n",
    "coin = []\n",
    "for i in range(n):\n",
    "    if np.random.uniform(0., 1.) > 1 - p:\n",
    "        coin.append(\"H\")\n",
    "    else:\n",
    "        coin.append(\"T\")\n",
    "        \n",
    "print(coin)"
   ]
  },
  {
   "cell_type": "markdown",
   "metadata": {},
   "source": [
    "[벡터리제이션](https://www.youtube.com/watch?v=udDod-Q1akg&list=PLXziV1DL41oj_WtNSq41Jm4msNZ9VO6H8&index=17&t=2s)"
   ]
  },
  {
   "cell_type": "code",
   "execution_count": 19,
   "metadata": {},
   "outputs": [
    {
     "name": "stdout",
     "output_type": "stream",
     "text": [
      "0.003654003143310547\n"
     ]
    }
   ],
   "source": [
    "import numpy as np\n",
    "\n",
    "n = 10\n",
    "p = 0.5\n",
    "\n",
    "uniform_sample = np.random.uniform(0., 1., (n,))\n",
    "coin = np.zeros_like(uniform_sample)\n",
    "coin[uniform_sample > 1-p] = 1.\n",
    "\n",
    "print(coin)"
   ]
  },
  {
   "cell_type": "markdown",
   "metadata": {},
   "source": [
    "Strong Law of Large Numbers"
   ]
  },
  {
   "cell_type": "code",
   "execution_count": 20,
   "metadata": {},
   "outputs": [
    {
     "data": {
      "image/png": "[encoded data removed]",
      "text/plain": [
       "<Figure size 432x288 with 1 Axes>"
      ]
     },
     "metadata": {},
     "output_type": "display_data"
    }
   ],
   "source": [
    "import numpy as np\n",
    "import matplotlib.pyplot as plt\n",
    "\n",
    "n = 10000\n",
    "p = 0.5\n",
    "\n",
    "uniform_sample = np.random.uniform(0., 1., (n,))\n",
    "coin = np.zeros_like(uniform_sample)\n",
    "coin[uniform_sample > 1-p] = 1.\n",
    "running_average = np.cumsum(coin) / np.arange(1,n+1)\n",
    "\n",
    "plt.plot(np.arange(1,n+1), running_average)\n",
    "plt.xlabel('Number of Coin Flips')\n",
    "plt.ylabel('Fraction of Heads')\n",
    "plt.grid(True)\n",
    "plt.show()"
   ]
  },
  {
   "cell_type": "markdown",
   "metadata": {},
   "source": [
    "Weak Law of Large Numbers"
   ]
  },
  {
   "cell_type": "code",
   "execution_count": 1,
   "metadata": {},
   "outputs": [
    {
     "data": {
      "text/plain": [
       "<Figure size 640x480 with 1 Axes>"
      ]
     },
     "metadata": {},
     "output_type": "display_data"
    }
   ],
   "source": [
    "# https://matplotlib.org/gallery/animation/animated_histogram.html#sphx-glr-gallery-animation-animated-histogram-py\n",
    "\n",
    "import numpy as np\n",
    "import matplotlib.pyplot as plt\n",
    "import matplotlib.patches as patches\n",
    "import matplotlib.path as path\n",
    "import matplotlib.animation as animation\n",
    "\n",
    "n = 1000000\n",
    "p = 0.5\n",
    "m = 1000\n",
    "\n",
    "uniform_sample = np.random.uniform(0., 1., (m,n))\n",
    "coin = np.zeros_like(uniform_sample)\n",
    "coin[uniform_sample > 1-p] = 1.\n",
    "running_average = np.cumsum(coin, axis=1) / np.arange(1,n+1)\n",
    "\n",
    "n, bins = 0, np.linspace(0.,1.,1000)\n",
    "left = bins[:-1]\n",
    "right = bins[1:]\n",
    "bottom = np.zeros(len(left))\n",
    "top = bottom + n\n",
    "nrects = len(left)\n",
    "\n",
    "nverts = nrects * (1 + 3 + 1)\n",
    "verts = np.zeros((nverts, 2))\n",
    "codes = np.ones(nverts, int) * path.Path.LINETO\n",
    "codes[0::5] = path.Path.MOVETO\n",
    "codes[4::5] = path.Path.CLOSEPOLY\n",
    "verts[0::5, 0] = left # 왼쪽 바텀 x좌표 정보\n",
    "verts[0::5, 1] = bottom # 왼쪽 바텀 y좌표 정보\n",
    "verts[1::5, 0] = left # 왼쪽 탑 x좌표 정보\n",
    "verts[1::5, 1] = top # 왼쪽 탑 y좌표 정보\n",
    "verts[2::5, 0] = right # 오른쪽 탑 x좌표 정보\n",
    "verts[2::5, 1] = top # 오른쪽 탑 y좌표 정보\n",
    "verts[3::5, 0] = right # 오른쪽 바텀 x좌표 정보\n",
    "verts[3::5, 1] = bottom # 오른쪽 바텀 y좌표 정보\n",
    "\n",
    "patch = None\n",
    "def animate(i):\n",
    "    data = running_average[:,i*100]\n",
    "    n, _ = np.histogram(data, bins=bins)\n",
    "    top = bottom + n\n",
    "    verts[1::5, 1] = top\n",
    "    verts[2::5, 1] = top\n",
    "    return [patch, ]\n",
    "\n",
    "fig, ax = plt.subplots()\n",
    "ax = plt.axes(xlim=(0, 1), ylim=(0, 1000))\n",
    "barpath = path.Path(verts, codes)\n",
    "patch = patches.PathPatch(\n",
    "    barpath, facecolor='blue', edgecolor='blue', alpha=0.6)\n",
    "ax.add_patch(patch)\n",
    "\n",
    "ani = animation.FuncAnimation(fig, animate, 10000, repeat=False, blit=True)\n",
    "ani.save('./mp4/coin_flip_weak_law_of_large_numbers.mp4')\n",
    "plt.show()"
   ]
  },
  {
   "cell_type": "markdown",
   "metadata": {},
   "source": [
    "CLT"
   ]
  },
  {
   "cell_type": "code",
   "execution_count": 12,
   "metadata": {},
   "outputs": [
    {
     "data": {
      "image/png": "[encoded data removed]",
      "text/plain": [
       "<Figure size 432x288 with 1 Axes>"
      ]
     },
     "metadata": {},
     "output_type": "display_data"
    }
   ],
   "source": [
    "import numpy as np\n",
    "import matplotlib.pyplot as plt\n",
    "import matplotlib.patches as patches\n",
    "import matplotlib.path as path\n",
    "import matplotlib.animation as animation\n",
    "\n",
    "n = 1000000\n",
    "p = 0.5\n",
    "m = 1000\n",
    "\n",
    "uniform_sample = np.random.uniform(0., 1., (m,n))\n",
    "coin = np.zeros_like(uniform_sample)\n",
    "coin[uniform_sample > 1-p] = 1.\n",
    "running_average = np.cumsum(coin, axis=1) / np.arange(1,n+1)\n",
    "sample_mean = np.mean(running_average, axis=0).reshape((1,n))\n",
    "sample_std = np.std(running_average, axis=0).reshape((1,n))\n",
    "running_average = (running_average - sample_mean) / sample_std  \n",
    "\n",
    "n, bins = 0, np.linspace(-3.,3.,15)\n",
    "left = bins[:-1]\n",
    "right = bins[1:]\n",
    "bottom = np.zeros(len(left))\n",
    "top = bottom + n\n",
    "nrects = len(left)\n",
    "\n",
    "nverts = nrects * (1 + 3 + 1)\n",
    "verts = np.zeros((nverts, 2))\n",
    "codes = np.ones(nverts, int) * path.Path.LINETO\n",
    "codes[0::5] = path.Path.MOVETO\n",
    "codes[4::5] = path.Path.CLOSEPOLY\n",
    "verts[0::5, 0] = left # 왼쪽 바텀 x좌표 정보\n",
    "verts[0::5, 1] = bottom # 왼쪽 바텀 y좌표 정보\n",
    "verts[1::5, 0] = left # 왼쪽 탑 x좌표 정보\n",
    "verts[1::5, 1] = top # 왼쪽 탑 y좌표 정보\n",
    "verts[2::5, 0] = right # 오른쪽 탑 x좌표 정보\n",
    "verts[2::5, 1] = top # 오른쪽 탑 y좌표 정보\n",
    "verts[3::5, 0] = right # 오른쪽 바텀 x좌표 정보\n",
    "verts[3::5, 1] = bottom # 오른쪽 바텀 y좌표 정보\n",
    "\n",
    "patch = None\n",
    "def animate(i):\n",
    "    data = running_average[:,i*100]\n",
    "    n, _ = np.histogram(data, bins=bins)\n",
    "    top = bottom + n\n",
    "    verts[1::5, 1] = top\n",
    "    verts[2::5, 1] = top\n",
    "    return [patch, ]\n",
    "\n",
    "fig, ax = plt.subplots()\n",
    "ax = plt.axes(xlim=(-3., 3.), ylim=(0, 200))\n",
    "barpath = path.Path(verts, codes)\n",
    "patch = patches.PathPatch(\n",
    "    barpath, facecolor='blue', edgecolor='blue', alpha=0.6)\n",
    "ax.add_patch(patch)\n",
    "\n",
    "ani = animation.FuncAnimation(fig, animate, 10000, repeat=False, blit=True)\n",
    "ani.save('./mp4/coin_flip_clt.mp4')\n",
    "plt.show()"
   ]
  },
  {
   "cell_type": "code",
   "execution_count": null,
   "metadata": {},
   "outputs": [],
   "source": []
  }
 ],
 "metadata": {
  "kernelspec": {
   "display_name": "Python [conda env:anaconda]",
   "language": "python",
   "name": "conda-env-anaconda-py"
  },
  "language_info": {
   "codemirror_mode": {
    "name": "ipython",
    "version": 3
   },
   "file_extension": ".py",
   "mimetype": "text/x-python",
   "name": "python",
   "nbconvert_exporter": "python",
   "pygments_lexer": "ipython3",
   "version": "3.5.5"
  }
 },
 "nbformat": 4,
 "nbformat_minor": 2
}
