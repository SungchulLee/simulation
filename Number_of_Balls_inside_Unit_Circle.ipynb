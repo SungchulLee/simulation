{
 "cells": [
  {
   "cell_type": "code",
   "execution_count": 4,
   "metadata": {},
   "outputs": [
    {
     "name": "stdout",
     "output_type": "stream",
     "text": [
      "3.08\n"
     ]
    },
    {
     "data": {
      "image/png": "[encoded data removed]",
      "text/plain": [
       "<Figure size 432x288 with 3 Axes>"
      ]
     },
     "metadata": {
      "needs_background": "light"
     },
     "output_type": "display_data"
    }
   ],
   "source": [
    "import numpy as np\n",
    "import matplotlib.pyplot as plt\n",
    "\n",
    "n = 100; # Number of darts for each estimate\n",
    "x = np.random.uniform(-1., 1., (2,n)); # Uniform random samples from [-1,1]^2\n",
    "r2 = np.sum(x**2, axis=0); # Squre distance from the origin\n",
    "N_Circle = sum(r2<=1); # Number of random samples inside unit circle\n",
    "Estimated_pi = 4*N_Circle/n # Estimate pi\n",
    "print(Estimated_pi)\n",
    "\n",
    "fig = plt.figure()\n",
    "ax1 = plt.subplot2grid((2,2), (0,0), colspan=2)\n",
    "ax2 = plt.subplot2grid((2,2), (1,0))\n",
    "ax3 = plt.subplot2grid((2,2), (1,1))\n",
    "fig.tight_layout()\n",
    "\n",
    "ax1.plot(x[0,r2<=1], x[1,r2<=1],\n",
    "         color='red', marker='o', markersize=1,\n",
    "         linestyle='None'); \n",
    "ax1.plot(x[0,r2>1], x[1,r2>1],\n",
    "         color='blue', marker='o', markersize=1,\n",
    "         linestyle='None');\n",
    "ax1.set_aspect(1.0)\n",
    "\n",
    "ax2.plot(np.arange(1,n+1), np.pi*np.ones((n,))) \n",
    "ax2.plot(np.arange(1,n+1), 4*np.cumsum(r2<=1)/np.arange(1,n+1))\n",
    "ax2.grid(True)\n",
    "\n",
    "n = 10000; # Number of darts for each estimate\n",
    "m = 100; # Number of estimates computed using n dart\n",
    "x = np.random.uniform(-1., 1., (2,n,m)); # Uniform random samples from [-1,1]^2\n",
    "r2 = np.sum(x**2, axis=0); # Squre distance from the origin\n",
    "N_Circle = np.sum(r2<=1, axis=0); # Number of random samples inside unit circle\n",
    "Estimated_pi = 4*N_Circle/n; # Estimate pi\n",
    "ax3.hist(Estimated_pi)\n",
    "\n",
    "plt.show()"
   ]
  },
  {
   "cell_type": "code",
   "execution_count": null,
   "metadata": {},
   "outputs": [],
   "source": []
  }
 ],
 "metadata": {
  "kernelspec": {
   "display_name": "Python [conda env:anaconda3]",
   "language": "python",
   "name": "conda-env-anaconda3-py"
  },
  "language_info": {
   "codemirror_mode": {
    "name": "ipython",
    "version": 3
   },
   "file_extension": ".py",
   "mimetype": "text/x-python",
   "name": "python",
   "nbconvert_exporter": "python",
   "pygments_lexer": "ipython3",
   "version": "3.5.0"
  }
 },
 "nbformat": 4,
 "nbformat_minor": 2
}
